{
 "cells": [
  {
   "cell_type": "code",
   "execution_count": 51,
   "id": "4958beab-0988-4646-ac8f-d1cdc9540b92",
   "metadata": {
    "scrolled": true
   },
   "outputs": [
    {
     "name": "stdout",
     "output_type": "stream",
     "text": [
      "                                      Nom du Produit  Prix (TND)\n",
      "0  Gaufrette chocolat 110 G Dcroc Gaufrette tiram...        1.49\n",
      "1  Biscuit fourré goût vanille 190 G TOM Lot 2 co...        1.55\n",
      "2  Lot de 5 yaourts brassés fraise gaufrette 5* 7...        1.72\n",
      "3  Boisson gazeuse citron 1 L Viva Boisson gazeus...        1.99\n",
      "4  Lot de 2 Pains de mie 14 tranches complet Lot ...        2.00\n"
     ]
    }
   ],
   "source": [
    "import pandas as pd\n",
    "\n",
    "# Charger le fichier CSV\n",
    "df = pd.read_csv('./data final/produits_aziza_filtrer.csv')\n",
    "\n",
    "# Afficher les premières lignes pour avoir un aperçu\n",
    "print(df.head())"
   ]
  },
  {
   "cell_type": "code",
   "execution_count": 53,
   "id": "7b77ec00-2d25-42f0-a526-7450fdeaaf52",
   "metadata": {
    "scrolled": true
   },
   "outputs": [
    {
     "data": {
      "text/html": [
       "<div>\n",
       "<style scoped>\n",
       "    .dataframe tbody tr th:only-of-type {\n",
       "        vertical-align: middle;\n",
       "    }\n",
       "\n",
       "    .dataframe tbody tr th {\n",
       "        vertical-align: top;\n",
       "    }\n",
       "\n",
       "    .dataframe thead th {\n",
       "        text-align: right;\n",
       "    }\n",
       "</style>\n",
       "<table border=\"1\" class=\"dataframe\">\n",
       "  <thead>\n",
       "    <tr style=\"text-align: right;\">\n",
       "      <th></th>\n",
       "      <th>Nom du Produit</th>\n",
       "      <th>Prix (TND)</th>\n",
       "    </tr>\n",
       "  </thead>\n",
       "  <tbody>\n",
       "    <tr>\n",
       "      <th>0</th>\n",
       "      <td>Gaufrette chocolat 110 G Dcroc Gaufrette tiram...</td>\n",
       "      <td>1.49</td>\n",
       "    </tr>\n",
       "    <tr>\n",
       "      <th>1</th>\n",
       "      <td>Biscuit fourré goût vanille 190 G TOM Lot 2 co...</td>\n",
       "      <td>1.55</td>\n",
       "    </tr>\n",
       "    <tr>\n",
       "      <th>2</th>\n",
       "      <td>Lot de 5 yaourts brassés fraise gaufrette 5* 7...</td>\n",
       "      <td>1.72</td>\n",
       "    </tr>\n",
       "    <tr>\n",
       "      <th>3</th>\n",
       "      <td>Boisson gazeuse citron 1 L Viva Boisson gazeus...</td>\n",
       "      <td>1.99</td>\n",
       "    </tr>\n",
       "    <tr>\n",
       "      <th>4</th>\n",
       "      <td>Lot de 2 Pains de mie 14 tranches complet Lot ...</td>\n",
       "      <td>2.00</td>\n",
       "    </tr>\n",
       "    <tr>\n",
       "      <th>5</th>\n",
       "      <td>Lot de 6 yaourts aromatisés banane 6* 100G Vit...</td>\n",
       "      <td>2.65</td>\n",
       "    </tr>\n",
       "    <tr>\n",
       "      <th>6</th>\n",
       "      <td>Lot 6 browniz cacao 6* 60 G Lot 3 brioches fou...</td>\n",
       "      <td>2.84</td>\n",
       "    </tr>\n",
       "    <tr>\n",
       "      <th>7</th>\n",
       "      <td>Nouasser artisanal 500 G BIT EL MOUNA Lot de 5...</td>\n",
       "      <td>2.99</td>\n",
       "    </tr>\n",
       "    <tr>\n",
       "      <th>8</th>\n",
       "      <td>Lot de 4 boissons instantanées orange 4* 40 G ...</td>\n",
       "      <td>3.10</td>\n",
       "    </tr>\n",
       "    <tr>\n",
       "      <th>9</th>\n",
       "      <td>Chamia nature 200 G Le moulin Lot de 3 boites ...</td>\n",
       "      <td>3.58</td>\n",
       "    </tr>\n",
       "    <tr>\n",
       "      <th>10</th>\n",
       "      <td>Cacahuète enrobé goût hot chili 100 GR Cacahuè...</td>\n",
       "      <td>3.99</td>\n",
       "    </tr>\n",
       "    <tr>\n",
       "      <th>11</th>\n",
       "      <td>Lot 2 margarines plus 2* 200 G Goldina Lot de ...</td>\n",
       "      <td>4.80</td>\n",
       "    </tr>\n",
       "    <tr>\n",
       "      <th>12</th>\n",
       "      <td>CHIPS 70GR MISTER CHIPS PAPRIKA CHIPS 70GR MIS...</td>\n",
       "      <td>5.70</td>\n",
       "    </tr>\n",
       "    <tr>\n",
       "      <th>13</th>\n",
       "      <td>2 glaces cookies 2* 95 ML 2 glaces amandes 2* ...</td>\n",
       "      <td>5.90</td>\n",
       "    </tr>\n",
       "    <tr>\n",
       "      <th>14</th>\n",
       "      <td>Céréales grain d'or cacao 900 G Nestlé Céréale...</td>\n",
       "      <td>9.99</td>\n",
       "    </tr>\n",
       "  </tbody>\n",
       "</table>\n",
       "</div>"
      ],
      "text/plain": [
       "                                       Nom du Produit  Prix (TND)\n",
       "0   Gaufrette chocolat 110 G Dcroc Gaufrette tiram...        1.49\n",
       "1   Biscuit fourré goût vanille 190 G TOM Lot 2 co...        1.55\n",
       "2   Lot de 5 yaourts brassés fraise gaufrette 5* 7...        1.72\n",
       "3   Boisson gazeuse citron 1 L Viva Boisson gazeus...        1.99\n",
       "4   Lot de 2 Pains de mie 14 tranches complet Lot ...        2.00\n",
       "5   Lot de 6 yaourts aromatisés banane 6* 100G Vit...        2.65\n",
       "6   Lot 6 browniz cacao 6* 60 G Lot 3 brioches fou...        2.84\n",
       "7   Nouasser artisanal 500 G BIT EL MOUNA Lot de 5...        2.99\n",
       "8   Lot de 4 boissons instantanées orange 4* 40 G ...        3.10\n",
       "9   Chamia nature 200 G Le moulin Lot de 3 boites ...        3.58\n",
       "10  Cacahuète enrobé goût hot chili 100 GR Cacahuè...        3.99\n",
       "11  Lot 2 margarines plus 2* 200 G Goldina Lot de ...        4.80\n",
       "12  CHIPS 70GR MISTER CHIPS PAPRIKA CHIPS 70GR MIS...        5.70\n",
       "13  2 glaces cookies 2* 95 ML 2 glaces amandes 2* ...        5.90\n",
       "14  Céréales grain d'or cacao 900 G Nestlé Céréale...        9.99"
      ]
     },
     "execution_count": 53,
     "metadata": {},
     "output_type": "execute_result"
    }
   ],
   "source": [
    "df"
   ]
  },
  {
   "cell_type": "code",
   "execution_count": 17,
   "id": "bfc3e026-7341-4ae1-945b-b0d9090bcf8a",
   "metadata": {},
   "outputs": [
    {
     "name": "stdout",
     "output_type": "stream",
     "text": [
      "Nom du Produit,Marque,Catégorie,Énergie (kcal),Matières grasses (g),Protéines (g),Sucres (g),Empreinte Carbone (CO₂ g),Lien Produit    0\n",
      "dtype: int64\n"
     ]
    }
   ],
   "source": [
    "print(df.isnull().sum())"
   ]
  },
  {
   "cell_type": "code",
   "execution_count": 55,
   "id": "c69cceee-b7e5-42bc-995b-a112a44eebe2",
   "metadata": {},
   "outputs": [
    {
     "ename": "OperationalError",
     "evalue": "near \"'M001'\": syntax error",
     "output_type": "error",
     "traceback": [
      "\u001b[1;31m---------------------------------------------------------------------------\u001b[0m",
      "\u001b[1;31mOperationalError\u001b[0m                          Traceback (most recent call last)",
      "Cell \u001b[1;32mIn[55], line 14\u001b[0m\n\u001b[0;32m     12\u001b[0m \u001b[38;5;66;03m# Exécution du script SQL\u001b[39;00m\n\u001b[0;32m     13\u001b[0m cursor \u001b[38;5;241m=\u001b[39m conn\u001b[38;5;241m.\u001b[39mcursor()\n\u001b[1;32m---> 14\u001b[0m \u001b[43mcursor\u001b[49m\u001b[38;5;241;43m.\u001b[39;49m\u001b[43mexecutescript\u001b[49m\u001b[43m(\u001b[49m\u001b[43msql_script\u001b[49m\u001b[43m)\u001b[49m\n\u001b[0;32m     15\u001b[0m conn\u001b[38;5;241m.\u001b[39mcommit()\n\u001b[0;32m     17\u001b[0m \u001b[38;5;66;03m# Étape 3 : Fonction pour charger les données d'une table en DataFrame Pandas\u001b[39;00m\n",
      "\u001b[1;31mOperationalError\u001b[0m: near \"'M001'\": syntax error"
     ]
    }
   ],
   "source": [
    "import pandas as pd\n",
    "import sqlite3\n",
    "\n",
    "# Étape 1 : Connexion à une base de données SQLite (ou autre base au besoin)\n",
    "# Remplacez 'data.db' par le chemin de votre fichier de base de données\n",
    "conn = sqlite3.connect('data.db')\n",
    "\n",
    "# Étape 2 : Charger le fichier script.sql et exécuter son contenu\n",
    "with open('script.sql', 'r') as file:\n",
    "    sql_script = file.read()\n",
    "\n",
    "# Exécution du script SQL\n",
    "cursor = conn.cursor()\n",
    "cursor.executescript(sql_script)\n",
    "conn.commit()\n",
    "\n",
    "# Étape 3 : Fonction pour charger les données d'une table en DataFrame Pandas\n",
    "def load_table(table_name):\n",
    "    query = f\"SELECT * FROM {table_name}\"\n",
    "    return pd.read_sql_query(query, conn)\n",
    "\n",
    "# Étape 4 : Data Profiling - Analyser la table\n",
    "def data_discovery(df, table_name):\n",
    "    print(f\"\\n--- Data Discovery pour la table '{table_name}' ---\")\n",
    "    print(f\"Nombre de lignes: {df.shape[0]}\")\n",
    "    print(f\"Nombre de colonnes: {df.shape[1]}\\n\")\n",
    "    \n",
    "    print(\"\\nTypes de données:\")\n",
    "    print(df.dtypes)\n",
    "    \n",
    "    print(\"\\nValeurs manquantes:\")\n",
    "    print(df.isnull().sum())\n",
    "    \n",
    "    print(\"\\nAperçu des premières lignes:\")\n",
    "    print(df.head())\n",
    "\n",
    "# Étape 5 : Liste des tables dans la base de données\n",
    "tables_query = \"SELECT name FROM sqlite_master WHERE type='table';\"\n",
    "tables = pd.read_sql_query(tables_query, conn)\n",
    "table_names = tables['name'].tolist()\n",
    "\n",
    "# Étape 6 : Appliquer la découverte des données sur chaque table\n",
    "for table in table_names:\n",
    "    df = load_table(table)\n",
    "    data_discovery(df, table)\n",
    "\n",
    "# Étape 7 : Fermeture de la connexion\n",
    "conn.close()\n"
   ]
  },
  {
   "cell_type": "code",
   "execution_count": null,
   "id": "5eea564d-a883-4f7c-a3d9-a4c1a06be0e2",
   "metadata": {},
   "outputs": [],
   "source": []
  }
 ],
 "metadata": {
  "kernelspec": {
   "display_name": "Python 3 (ipykernel)",
   "language": "python",
   "name": "python3"
  },
  "language_info": {
   "codemirror_mode": {
    "name": "ipython",
    "version": 3
   },
   "file_extension": ".py",
   "mimetype": "text/x-python",
   "name": "python",
   "nbconvert_exporter": "python",
   "pygments_lexer": "ipython3",
   "version": "3.12.7"
  }
 },
 "nbformat": 4,
 "nbformat_minor": 5
}
